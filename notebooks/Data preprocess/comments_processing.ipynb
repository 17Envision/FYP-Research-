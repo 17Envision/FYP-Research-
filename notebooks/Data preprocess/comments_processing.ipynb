{
 "cells": [
  {
   "cell_type": "code",
   "execution_count": 2,
   "metadata": {},
   "outputs": [
    {
     "name": "stdout",
     "output_type": "stream",
     "text": [
      "Emojis removed and blank rows dropped. Cleaned data saved to 'output_comments.csv'\n"
     ]
    }
   ],
   "source": [
    "import pandas as pd\n",
    "import re\n",
    "\n",
    "def remove_emojis(text):\n",
    "    \"\"\"Remove emojis from a given text.\"\"\"\n",
    "    emoji_pattern = re.compile(\n",
    "        \"[\" \n",
    "        u\"\\U0001F600-\\U0001F64F\"  # emoticons\n",
    "        u\"\\U0001F300-\\U0001F5FF\"  # symbols & pictographs\n",
    "        u\"\\U0001F680-\\U0001F6FF\"  # transport & map symbols\n",
    "        u\"\\U0001F700-\\U0001F77F\"  # alchemical symbols\n",
    "        u\"\\U0001F780-\\U0001F7FF\"  # Geometric Shapes Extended\n",
    "        u\"\\U0001F800-\\U0001F8FF\"  # Supplemental Arrows-C\n",
    "        u\"\\U0001F900-\\U0001F9FF\"  # Supplemental Symbols and Pictographs\n",
    "        u\"\\U0001FA00-\\U0001FA6F\"  # Chess Symbols\n",
    "        u\"\\U0001FA70-\\U0001FAFF\"  # Symbols and Pictographs Extended-A\n",
    "        u\"\\U00002700-\\U000027BF\"  # Dingbats\n",
    "        u\"\\U00002600-\\U000026FF\"  # Miscellaneous Symbols\n",
    "        u\"\\U00002000-\\U0000209F\"  # General Punctuation\n",
    "        u\"\\U00002300-\\U000023FF\"  # Miscellaneous Technical\n",
    "        u\"\\U00002B50-\\U00002BFF\"  # Miscellaneous Symbols and Arrows\n",
    "        \"]+\", flags=re.UNICODE)\n",
    "    return emoji_pattern.sub(r'', text)\n",
    "\n",
    "# Read the CSV file\n",
    "input_csv = '../../data/rawdataset.csv'  # Replace with the path to your input CSV file\n",
    "output_csv = 'output_comments.csv'  # Replace with the desired path for the output CSV file\n",
    "\n",
    "# Load the CSV file into a pandas DataFrame\n",
    "df = pd.read_csv(input_csv)\n",
    "\n",
    "# Check if 'Comments' column exists\n",
    "if 'Comments' in df.columns:\n",
    "    # Remove emojis from the 'Comments' column\n",
    "    df['Comments'] = df['Comments'].apply(lambda x: remove_emojis(str(x)))\n",
    "    \n",
    "    # Remove rows where 'Comments' column is empty or contains only whitespace\n",
    "    df = df[df['Comments'].str.strip().astype(bool)]\n",
    "    \n",
    "    # Save the cleaned DataFrame to a new CSV file\n",
    "    df.to_csv(output_csv, index=False)\n",
    "    print(f\"Emojis removed and blank rows dropped. Cleaned data saved to '{output_csv}'\")\n",
    "else:\n",
    "    print(\"Error: 'Comments' column not found in the input CSV file.\")\n"
   ]
  }
 ],
 "metadata": {
  "kernelspec": {
   "display_name": "Python 3",
   "language": "python",
   "name": "python3"
  },
  "language_info": {
   "codemirror_mode": {
    "name": "ipython",
    "version": 3
   },
   "file_extension": ".py",
   "mimetype": "text/x-python",
   "name": "python",
   "nbconvert_exporter": "python",
   "pygments_lexer": "ipython3",
   "version": "3.12.0"
  }
 },
 "nbformat": 4,
 "nbformat_minor": 2
}
