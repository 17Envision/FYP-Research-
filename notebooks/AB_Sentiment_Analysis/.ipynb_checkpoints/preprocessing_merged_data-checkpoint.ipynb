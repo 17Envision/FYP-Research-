{
 "cells": [
  {
   "cell_type": "code",
   "execution_count": 46,
   "id": "a31cd8f2-8abe-400d-bd92-2a49ef400a51",
   "metadata": {},
   "outputs": [],
   "source": [
    "import pandas as pd\n",
    "import regex as re\n",
    "import emoji\n",
    "from emoji import emojize\n",
    "from translate import Translator\n",
    "import nltk"
   ]
  },
  {
   "cell_type": "code",
   "execution_count": 55,
   "id": "19d3d1d1-6723-474a-8c0b-965f80b10627",
   "metadata": {},
   "outputs": [
    {
     "name": "stdout",
     "output_type": "stream",
     "text": [
      "Collecting nltk\n",
      "  Downloading nltk-3.8.1-py3-none-any.whl.metadata (2.8 kB)\n",
      "Requirement already satisfied: click in d:\\uom\\l4s1\\research\\implementation\\fyp-research\\env\\lib\\site-packages (from nltk) (8.1.7)\n",
      "Collecting joblib (from nltk)\n",
      "  Using cached joblib-1.3.2-py3-none-any.whl.metadata (5.4 kB)\n",
      "Requirement already satisfied: regex>=2021.8.3 in d:\\uom\\l4s1\\research\\implementation\\fyp-research\\env\\lib\\site-packages (from nltk) (2023.12.25)\n",
      "Requirement already satisfied: tqdm in d:\\uom\\l4s1\\research\\implementation\\fyp-research\\env\\lib\\site-packages (from nltk) (4.66.2)\n",
      "Requirement already satisfied: colorama in d:\\uom\\l4s1\\research\\implementation\\fyp-research\\env\\lib\\site-packages (from click->nltk) (0.4.6)\n",
      "Using cached nltk-3.8.1-py3-none-any.whl (1.5 MB)\n",
      "Using cached joblib-1.3.2-py3-none-any.whl (302 kB)\n",
      "Installing collected packages: joblib, nltk\n",
      "Successfully installed joblib-1.3.2 nltk-3.8.1\n"
     ]
    },
    {
     "name": "stderr",
     "output_type": "stream",
     "text": [
      "\n",
      "[notice] A new release of pip is available: 23.3.2 -> 24.0\n",
      "[notice] To update, run: python.exe -m pip install --upgrade pip\n"
     ]
    }
   ],
   "source": [
    "!pip install nltk"
   ]
  },
  {
   "cell_type": "code",
   "execution_count": 3,
   "id": "2607925b-e76d-4765-a2ac-87fc27c2a23b",
   "metadata": {},
   "outputs": [],
   "source": [
    "# Load the Excel file into a DataFrame\n",
    "df = pd.read_excel(\"merged_data.xlsx\")"
   ]
  },
  {
   "cell_type": "code",
   "execution_count": 22,
   "id": "8953db08-43b5-4507-9caa-41ad9dffb4b8",
   "metadata": {},
   "outputs": [],
   "source": [
    "# Define a regex pattern to match emojis\n",
    "emoji_pattern = re.compile(\"[\\U0001F600-\\U0001F64F]|[\\U0001F300-\\U0001F5FF]|[\\U0001F680-\\U0001F6FF]|[\\U0001F700-\\U0001F77F]|[\\U0001F780-\\U0001F7FF]|[\\U0001F800-\\U0001F8FF]|[\\U0001F900-\\U0001F9FF]|[\\U0001FA00-\\U0001FA6F]|[\\U0001FA70-\\U0001FAFF]|[\\U00002702-\\U000027B0]|[\\U000024C2-\\U0001F251]|[\\U0001f926-\\U0001f937]|[\\U0001F1E0-\\U0001F1FF]+\", flags=re.UNICODE)"
   ]
  },
  {
   "cell_type": "code",
   "execution_count": 23,
   "id": "74ff7a1b-e0ee-4b59-bd2b-0017d814eb34",
   "metadata": {},
   "outputs": [],
   "source": [
    "# Remove rows where the \"Comment\" column consists only of emojis\n",
    "df = df[~df['Comment'].astype(str).str.match(emoji_pattern)]"
   ]
  },
  {
   "cell_type": "code",
   "execution_count": 24,
   "id": "5a51c3f0-cd9b-4633-9e5b-10feb1f87c37",
   "metadata": {},
   "outputs": [],
   "source": [
    "# Write the updated DataFrame to a new Excel file\n",
    "df.to_excel(\"comments_without_emojis.xlsx\", index=False)"
   ]
  },
  {
   "cell_type": "code",
   "execution_count": 32,
   "id": "7ee523df-7538-42b6-806b-72c7f787131a",
   "metadata": {},
   "outputs": [],
   "source": [
    "# Function to remove emojis from a comment\n",
    "def remove_emojis(comment):\n",
    "    return re.sub(r'[\\U0001F600-\\U0001F64F\\U0001F300-\\U0001F5FF\\U0001F680-\\U0001F6FF\\U0001F700-\\U0001F77F\\U0001F780-\\U0001F7FF\\U0001F800-\\U0001F8FF\\U0001F900-\\U0001F9FF\\U0001FA00-\\U0001FA6F\\U0001FA70-\\U0001FAFF\\U00002702-\\U000027B0\\U000024C2-\\U0001F251\\U0001f926-\\U0001f937\\U0001F1E0-\\U0001F1FF]+', '', comment)"
   ]
  },
  {
   "cell_type": "code",
   "execution_count": 33,
   "id": "9cf98a45-296b-4f47-aa45-ba078bfe5052",
   "metadata": {},
   "outputs": [],
   "source": [
    "# Apply the function to the \"Comment\" column\n",
    "df['Comment'] = df['Comment'].apply(remove_emojis)"
   ]
  },
  {
   "cell_type": "code",
   "execution_count": 34,
   "id": "edde7de3-cc78-4371-ba30-cd48b5bac815",
   "metadata": {},
   "outputs": [],
   "source": [
    "# Write the updated DataFrame to a new Excel file\n",
    "df.to_excel(\"comments_no_any_emoji.xlsx\", index=False)"
   ]
  },
  {
   "cell_type": "code",
   "execution_count": 38,
   "id": "c52aaa14-009e-493e-870f-3fb017c10c95",
   "metadata": {},
   "outputs": [
    {
     "data": {
      "text/plain": [
       "0                                   rashmika wage\n",
       "1                                rashmika wge ade\n",
       "2                                                \n",
       "3                                                \n",
       "4               rashmika mathk una eya wage tikak\n",
       "5                               Comfused una bang\n",
       "6                                                \n",
       "7                                                \n",
       "8                                She is beautiful\n",
       "9                          rashmika mandana wagee\n",
       "10                                               \n",
       "11                                           Left\n",
       "12                                               \n",
       "13                                       sarangya\n",
       "14                                               \n",
       "15                                            wow\n",
       "16                                       naliya p\n",
       "17                                               \n",
       "18                                               \n",
       "19                                               \n",
       "20                                     Navee girl\n",
       "21                                       Reaction\n",
       "22                               saranga confused\n",
       "23                                               \n",
       "24                                          Hayyo\n",
       "25                                  rashmika wage\n",
       "26                                  rashmika wage\n",
       "27    adeh sirawatama ahe awlakda rashmika wagene\n",
       "28        Dinakshie Saranga Dina looking gorgeous\n",
       "29                                 She s gorgeous\n",
       "Name: Filtered_Comment, dtype: object"
      ]
     },
     "execution_count": 38,
     "metadata": {},
     "output_type": "execute_result"
    }
   ],
   "source": [
    "# Function to filter English words from a comment\n",
    "def filter_english_words(comment):\n",
    "    return ' '.join(re.findall(r'\\b[A-Za-z]+\\b', comment))\n",
    "\n",
    "# Apply the function to the \"Comment\" column\n",
    "df['Filtered_Comment'] = df['Comment'].apply(filter_english_words)\n",
    "\n",
    "df['Filtered_Comment'].head(30)"
   ]
  },
  {
   "cell_type": "code",
   "execution_count": 39,
   "id": "9976dbca-811b-45bb-9ef4-a15a8a4f0115",
   "metadata": {},
   "outputs": [],
   "source": [
    "# Open a text file in write mode\n",
    "with open(\"filtered_comments.txt\", \"w\", encoding=\"utf-8\") as file:\n",
    "    # Iterate over the \"Filtered_Comment\" column and write each comment to the file\n",
    "    for comment in df['Filtered_Comment']:\n",
    "        file.write(comment + \"\\n\")"
   ]
  },
  {
   "cell_type": "code",
   "execution_count": 47,
   "id": "8e264181-0f4b-4039-85ec-7c700de0329c",
   "metadata": {},
   "outputs": [],
   "source": []
  },
  {
   "cell_type": "code",
   "execution_count": 48,
   "id": "a72a78eb-371b-4995-a070-f264afb1fe9c",
   "metadata": {},
   "outputs": [],
   "source": []
  },
  {
   "cell_type": "code",
   "execution_count": null,
   "id": "1d335410-27e8-43f8-a048-a677b5e0eca1",
   "metadata": {},
   "outputs": [],
   "source": []
  }
 ],
 "metadata": {
  "kernelspec": {
   "display_name": "Python 3 (ipykernel)",
   "language": "python",
   "name": "python3"
  },
  "language_info": {
   "codemirror_mode": {
    "name": "ipython",
    "version": 3
   },
   "file_extension": ".py",
   "mimetype": "text/x-python",
   "name": "python",
   "nbconvert_exporter": "python",
   "pygments_lexer": "ipython3",
   "version": "3.11.5"
  }
 },
 "nbformat": 4,
 "nbformat_minor": 5
}
