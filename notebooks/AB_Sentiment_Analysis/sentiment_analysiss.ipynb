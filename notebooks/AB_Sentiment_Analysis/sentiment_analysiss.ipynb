{
 "cells": [
  {
   "cell_type": "code",
   "execution_count": 1,
   "id": "16ef22fa-df55-4751-a153-2631f07d3062",
   "metadata": {},
   "outputs": [],
   "source": [
    "import pandas as pd\n",
    "\n",
    "# Specify the file path\n",
    "file_path = \"../../data/translated_comments.xlsx\"\n",
    "\n",
    "# Load the Excel file into a DataFrame\n",
    "df = pd.read_excel(file_path)"
   ]
  },
  {
   "cell_type": "code",
   "execution_count": 2,
   "id": "589dc757-4925-40b9-8e0c-9d21faa59f95",
   "metadata": {},
   "outputs": [],
   "source": [
    "# Load a specific sheet named 'Sheet1'\n",
    "df = pd.read_excel(file_path, sheet_name='Sheet1')\n"
   ]
  },
  {
   "cell_type": "code",
   "execution_count": 3,
   "id": "38e70547-5072-40af-a2bf-bf1d5c018ef1",
   "metadata": {},
   "outputs": [
    {
     "data": {
      "text/html": [
       "<div>\n",
       "<style scoped>\n",
       "    .dataframe tbody tr th:only-of-type {\n",
       "        vertical-align: middle;\n",
       "    }\n",
       "\n",
       "    .dataframe tbody tr th {\n",
       "        vertical-align: top;\n",
       "    }\n",
       "\n",
       "    .dataframe thead th {\n",
       "        text-align: right;\n",
       "    }\n",
       "</style>\n",
       "<table border=\"1\" class=\"dataframe\">\n",
       "  <thead>\n",
       "    <tr style=\"text-align: right;\">\n",
       "      <th></th>\n",
       "      <th>Comment Id</th>\n",
       "      <th>Comment</th>\n",
       "    </tr>\n",
       "  </thead>\n",
       "  <tbody>\n",
       "    <tr>\n",
       "      <th>0</th>\n",
       "      <td>7221188022045099008</td>\n",
       "      <td>rashmika වාසිය</td>\n",
       "    </tr>\n",
       "    <tr>\n",
       "      <th>1</th>\n",
       "      <td>7221178613064123392</td>\n",
       "      <td>rashmika වෙගී ade</td>\n",
       "    </tr>\n",
       "    <tr>\n",
       "      <th>2</th>\n",
       "      <td>7221176459355882496</td>\n",
       "      <td>සාරංග</td>\n",
       "    </tr>\n",
       "    <tr>\n",
       "      <th>3</th>\n",
       "      <td>7333542921793094656</td>\n",
       "      <td>ඉස්සරහට නිලියක් ශුවර්</td>\n",
       "    </tr>\n",
       "    <tr>\n",
       "      <th>4</th>\n",
       "      <td>7221231966270751744</td>\n",
       "      <td>rashmika මතකේ una..eya වාසිය ටිකක</td>\n",
       "    </tr>\n",
       "  </tbody>\n",
       "</table>\n",
       "</div>"
      ],
      "text/plain": [
       "            Comment Id                            Comment\n",
       "0  7221188022045099008                     rashmika වාසිය\n",
       "1  7221178613064123392                  rashmika වෙගී ade\n",
       "2  7221176459355882496                              සාරංග\n",
       "3  7333542921793094656              ඉස්සරහට නිලියක් ශුවර්\n",
       "4  7221231966270751744  rashmika මතකේ una..eya වාසිය ටිකක"
      ]
     },
     "execution_count": 3,
     "metadata": {},
     "output_type": "execute_result"
    }
   ],
   "source": [
    "df.head()"
   ]
  },
  {
   "cell_type": "code",
   "execution_count": 4,
   "id": "d55c42db-4142-4d83-b612-f165729ef353",
   "metadata": {},
   "outputs": [
    {
     "name": "stdout",
     "output_type": "stream",
     "text": [
      "Row count of the DataFrame: 14017\n"
     ]
    }
   ],
   "source": [
    "# Get the row count\n",
    "row_count = df.shape[0]\n",
    "\n",
    "print(\"Row count of the DataFrame:\", row_count)"
   ]
  },
  {
   "cell_type": "code",
   "execution_count": 5,
   "id": "8e0b3359-0470-4980-b55f-add3ac51ddf0",
   "metadata": {},
   "outputs": [
    {
     "name": "stdout",
     "output_type": "stream",
     "text": [
      "Null values in the 'Comment' column:\n",
      "                Comment Id Comment\n",
      "44     7221177654576825344     NaN\n",
      "45     7221176223815713792     NaN\n",
      "48     7243025175670604800     NaN\n",
      "50     7224778042249839616     NaN\n",
      "52     7223030238438032384     NaN\n",
      "...                    ...     ...\n",
      "13813  7304609734580945920     NaN\n",
      "13814  7301703176813511680     NaN\n",
      "13815  7294979703093068800     NaN\n",
      "13816  7294296586959471616     NaN\n",
      "13890  7292693117953934336     NaN\n",
      "\n",
      "[3122 rows x 2 columns]\n"
     ]
    }
   ],
   "source": [
    "# Find null values in the \"Comment\" column\n",
    "null_comments = df[df['Comment'].isnull()]\n",
    "\n",
    "# Display null values in the \"Comment\" column\n",
    "print(\"Null values in the 'Comment' column:\")\n",
    "print(null_comments)"
   ]
  },
  {
   "cell_type": "code",
   "execution_count": 6,
   "id": "c7b1dc0e-30d5-4215-ac87-e39420089a61",
   "metadata": {},
   "outputs": [],
   "source": [
    "# Drop rows with null values in the \"Comment\" column\n",
    "df = df.dropna(subset=['Comment'])"
   ]
  },
  {
   "cell_type": "code",
   "execution_count": 7,
   "id": "4f6d4603-1d5a-4eed-a58e-cf7e4720ce45",
   "metadata": {},
   "outputs": [
    {
     "name": "stdout",
     "output_type": "stream",
     "text": [
      "Row count of the DataFrame: 10895\n"
     ]
    }
   ],
   "source": [
    "# Get the row count\n",
    "row_count = df.shape[0]\n",
    "\n",
    "print(\"Row count of the DataFrame:\", row_count)"
   ]
  },
  {
   "cell_type": "code",
   "execution_count": 9,
   "id": "da930f5e-4e7f-406b-8591-b4a6718c8128",
   "metadata": {},
   "outputs": [
    {
     "name": "stdout",
     "output_type": "stream",
     "text": [
      "DataFrame saved to ../../data/finale_dataset_v1.xlsx\n"
     ]
    }
   ],
   "source": [
    "# Specify the file path for the new file\n",
    "output_file_path = \"../../data/finale_dataset_v1.xlsx\"\n",
    "\n",
    "# Save the DataFrame to a new Excel file\n",
    "df.to_excel(output_file_path, index=False)\n",
    "\n",
    "print(\"DataFrame saved to\", output_file_path)"
   ]
  },
  {
   "cell_type": "code",
   "execution_count": null,
   "id": "d40d4dd8-b68b-4bbf-8b2c-bd3b5fb3fd67",
   "metadata": {},
   "outputs": [],
   "source": []
  }
 ],
 "metadata": {
  "kernelspec": {
   "display_name": "Python 3 (ipykernel)",
   "language": "python",
   "name": "python3"
  },
  "language_info": {
   "codemirror_mode": {
    "name": "ipython",
    "version": 3
   },
   "file_extension": ".py",
   "mimetype": "text/x-python",
   "name": "python",
   "nbconvert_exporter": "python",
   "pygments_lexer": "ipython3",
   "version": "3.11.5"
  }
 },
 "nbformat": 4,
 "nbformat_minor": 5
}
