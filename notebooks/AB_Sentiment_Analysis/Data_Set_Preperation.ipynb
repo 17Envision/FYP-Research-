{
 "cells": [
  {
   "cell_type": "code",
   "execution_count": 3,
   "metadata": {},
   "outputs": [],
   "source": [
    "import pandas as pd\n",
    "\n",
    "# Load the first Excel file into a DataFrame\n",
    "df1 = pd.read_excel('../../data/dataset.xlsx')\n",
    "\n",
    "# Load the second Excel file into another DataFrame\n",
    "df2 = pd.read_excel('../../data/dataset2.xlsx')\n",
    "\n",
    "# Convert 'Comment Id' and 'User Id' columns to string in both DataFrames\n",
    "df1['Comment Id'] = df1['Comment Id'].astype(str)\n",
    "df1['User Id'] = df1['User Id'].astype(str)\n",
    "\n",
    "df2['Comment Id'] = df2['Comment Id'].astype(str)\n",
    "df2['User Id'] = df2['User Id'].astype(str)\n",
    "\n",
    "# Concatenate the two DataFrames along the rows (axis=0)\n",
    "merged_df = pd.concat([df1, df2], ignore_index=True)\n",
    "\n",
    "# Save the merged DataFrame to a new Excel file\n",
    "merged_df.to_excel('../../data/new_dataset.xlsx', index=False)\n"
   ]
  },
  {
   "cell_type": "code",
   "execution_count": 2,
   "metadata": {},
   "outputs": [
    {
     "name": "stdout",
     "output_type": "stream",
     "text": [
      "Merged dataset saved as 'merged_data.xlsx'\n"
     ]
    }
   ],
   "source": [
    "import pandas as pd\n",
    "import os\n",
    "\n",
    "# Path to the directory containing your Excel files\n",
    "directory = '../../data/predata/'\n",
    "\n",
    "# Initialize an empty list to store DataFrames\n",
    "data_frames = []\n",
    "\n",
    "# Loop through each file in the directory\n",
    "for filename in os.listdir(directory):\n",
    "    if filename.endswith('.xlsx'):\n",
    "        # Read the Excel file into a DataFrame\n",
    "        file_path = os.path.join(directory, filename)\n",
    "        data = pd.read_excel(file_path)\n",
    "        \n",
    "        # Append the data DataFrame to the list\n",
    "        data_frames.append(data)\n",
    "\n",
    "# Concatenate all DataFrames in the list into one DataFrame\n",
    "merged_data = pd.concat(data_frames, ignore_index=True)\n",
    "\n",
    "# Save the merged data to a new Excel file in the same directory\n",
    "merged_file_path = os.path.join(directory, 'merged_data.xlsx')\n",
    "merged_data.to_excel(merged_file_path, index=False)\n",
    "\n",
    "print(\"Merged dataset saved as 'merged_data.xlsx'\")\n",
    "\n"
   ]
  },
  {
   "cell_type": "code",
   "execution_count": null,
   "metadata": {},
   "outputs": [],
   "source": []
  }
 ],
 "metadata": {
  "kernelspec": {
   "display_name": "Python 3 (ipykernel)",
   "language": "python",
   "name": "python3"
  },
  "language_info": {
   "codemirror_mode": {
    "name": "ipython",
    "version": 3
   },
   "file_extension": ".py",
   "mimetype": "text/x-python",
   "name": "python",
   "nbconvert_exporter": "python",
   "pygments_lexer": "ipython3",
   "version": "3.11.5"
  }
 },
 "nbformat": 4,
 "nbformat_minor": 4
}
